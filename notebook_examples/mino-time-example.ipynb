{
 "cells": [
  {
   "cell_type": "markdown",
   "source": [
    "# Rays parameterized with Mino time"
   ],
   "metadata": {}
  },
  {
   "cell_type": "markdown",
   "source": [
    "In this example, we will raytrace the region around a Kerr black hole as seen by an observer stationed at infinity.\n",
    "We will return the coordinates associated with a ray by marching along the ray's Mino time parameter from the assymptotic observer.\n",
    "\n",
    "First, let's import Krang and CairoMakie for plotting."
   ],
   "metadata": {}
  },
  {
   "outputs": [],
   "cell_type": "code",
   "source": [
    "using Krang\n",
    "import GLMakie as GLMk\n",
    "GLMk.Makie.inline!(true)\n",
    "\n",
    "curr_theme = GLMk.Theme(# Makie theme\n",
    "    fontsize=20,\n",
    "    Axis=(\n",
    "        xticksvisible=false,\n",
    "        xticklabelsvisible=false,\n",
    "        yticksvisible=false,\n",
    "        yticklabelsvisible=false,\n",
    "        leftspinevisible=false,\n",
    "        rightspinevisible=false,\n",
    "        topspinevisible=false,\n",
    "        bottomspinevisible=false,\n",
    "        titlefontsize=30,\n",
    "    ),\n",
    ")\n",
    "\n",
    "GLMk.set_theme!(GLMk.merge(curr_theme, GLMk.theme_latexfonts()))"
   ],
   "metadata": {},
   "execution_count": 1
  },
  {
   "cell_type": "markdown",
   "source": [
    "We will use a 0.99 spin Kerr black hole viewed by an asymptotic observer at an inclination angle of θo=π/4."
   ],
   "metadata": {}
  },
  {
   "outputs": [],
   "cell_type": "code",
   "source": [
    "metric = Krang.Kerr(0.99); # Kerr spacetime with 0.99 spin\n",
    "θo = 85 * π / 180; # Observer inclination angle with respect to spin axis\n",
    "sze = 200; # Number of pixels along each axis of the screen\n",
    "ρmax = 5; # Size of the screen"
   ],
   "metadata": {},
   "execution_count": 2
  },
  {
   "cell_type": "markdown",
   "source": [
    "We will define a camera with the above parameters.\n",
    "The SlowLightIntensityCamera pre-calculates information about the spacetime and the observer's screen to speed up the\n",
    "raytracing for slow light applications."
   ],
   "metadata": {}
  },
  {
   "outputs": [],
   "cell_type": "code",
   "source": [
    "camera = Krang.SlowLightIntensityCamera(metric, θo, -ρmax, ρmax, -ρmax, ρmax, sze);"
   ],
   "metadata": {},
   "execution_count": 3
  },
  {
   "cell_type": "markdown",
   "source": [
    "Let us now create a figure to plot the emission coordinates on."
   ],
   "metadata": {}
  },
  {
   "outputs": [
    {
     "name": "stdout",
     "output_type": "stream",
     "text": [
      "┌ Warning: Found `resolution` in the theme when creating a `Scene`. The `resolution` keyword for `Scene`s and `Figure`s has been deprecated. Use `Figure(; size = ...` or `Scene(; size = ...)` instead, which better reflects that this is a unitless size and not a pixel resolution. The key could also come from `set_theme!` calls or related theming functions.\n",
      "└ @ Makie ~/.julia/packages/Makie/YkotL/src/scenes.jl:229\n"
     ]
    }
   ],
   "cell_type": "code",
   "source": [
    "fig = GLMk.Figure(resolution=(500, 600));"
   ],
   "metadata": {},
   "execution_count": 4
  },
  {
   "cell_type": "markdown",
   "source": [
    "We will create a loop to plot the emission coordinates for each θs."
   ],
   "metadata": {}
  },
  {
   "outputs": [
    {
     "output_type": "execute_result",
     "data": {
      "text/plain": "\"raytrace.gif\""
     },
     "metadata": {},
     "execution_count": 5
    }
   ],
   "cell_type": "code",
   "source": [
    "recording = GLMk.record(fig, \"raytrace.gif\", range(0.1, 3, length=290), framerate=15) do τ\n",
    "    GLMk.empty!(fig)\n",
    "\n",
    "    coordinates = zeros(4, size(camera.screen.pixels)...) # Pre allocated array to store coordinates\n",
    "    emission_coordinates!(coordinates, camera, τ)\n",
    "    time = coordinates[1,:,:]\n",
    "    radius = coordinates[2,:,:]\n",
    "    inclination = coordinates[3,:,:]\n",
    "    azimuth = mod2pi.(coordinates[4,:,:])\n",
    "\n",
    "    data = (time, radius, inclination, azimuth)\n",
    "    titles = (GLMk.L\"\\text{Regularized Time }(t_s)\", GLMk.L\"\\text{Radius }(r_s)\", GLMk.L\"\\text{Inclination }(\\theta_s)\", GLMk.L\"\\text{Azimuth } (\\phi_s)\")\n",
    "    colormaps = (:afmhot, :afmhot, :afmhot, :hsv)\n",
    "    colorrange = ((-20, 20), (0, 10.0), (0,π), (0, 2π))\n",
    "    indices = ((1,1), ())\n",
    "\n",
    "    for i in 1:4\n",
    "        hm = GLMk.heatmap!(\n",
    "            GLMk.Axis(getindex(fig, (i > 2 ? 2 : 1), (iszero(i%2) ? 3 : 1)); aspect=1, title=titles[i]),\n",
    "            data[i],\n",
    "            colormap=colormaps[i],\n",
    "            colorrange=colorrange[i]\n",
    "        )\n",
    "        cb = GLMk.Colorbar(fig[(i > 2 ? 2 : 1), (iszero(i%2) ? 3 : 1)+1], hm; labelsize=30, ticklabelsize=20)\n",
    "    end\n",
    "\n",
    "    ax = GLMk.Axis(fig[3, 1:3], height=60)\n",
    "    GLMk.hidedecorations!(ax)\n",
    "    GLMk.text!(ax,0,100; text=GLMk.L\"θ_o=%$(Int(floor(θo*180/π)))^\\circ\")\n",
    "    GLMk.rowgap!(fig.layout, 1, GLMk.Fixed(0))\n",
    "end"
   ],
   "metadata": {},
   "execution_count": 5
  },
  {
   "cell_type": "markdown",
   "source": [
    "![image](raytrace.gif)"
   ],
   "metadata": {}
  },
  {
   "outputs": [],
   "cell_type": "code",
   "source": [
    "camera = Krang.SlowLightIntensityCamera(metric, θo, -3, 3, -3, 3, 4);\n",
    "\n",
    "fig = GLMk.Figure()\n",
    "ax = GLMk.Axis3(fig[1,1], aspect=(1,1,1))\n",
    "GLMk.xlims!(ax, (-3, 3))\n",
    "GLMk.ylims!(ax, (-3, 3))\n",
    "GLMk.zlims!(ax, (-3, 3))\n",
    "lines_to_plot = []\n",
    "lines_to_plot = Krang.generate_ray.(camera.screen.pixels, 5_000)\n",
    "\n",
    "sphere = GLMk.Sphere(GLMk.Point(0.0,0.0,0.0), horizon(metric))\n",
    "GLMk.mesh!(ax, sphere, color=:black) # Sphere to represent black hole\n",
    "\n",
    "for i in lines_to_plot; GLMk.lines!(ax, i) end\n",
    "fig\n",
    "\n",
    "GLMk.save(\"mino_time_rays.png\", fig)"
   ],
   "metadata": {},
   "execution_count": 6
  },
  {
   "cell_type": "markdown",
   "source": [
    "![Photons trajectories around Kerr black hole in Boyer-Lindquist Coordinates](mino_time_rays.png)"
   ],
   "metadata": {}
  },
  {
   "cell_type": "markdown",
   "source": [
    "---\n",
    "\n",
    "*This notebook was generated using [Literate.jl](https://github.com/fredrikekre/Literate.jl).*"
   ],
   "metadata": {}
  }
 ],
 "nbformat_minor": 3,
 "metadata": {
  "language_info": {
   "file_extension": ".jl",
   "mimetype": "application/julia",
   "name": "julia",
   "version": "1.10.5"
  },
  "kernelspec": {
   "name": "julia-1.10",
   "display_name": "Julia 1.10.5",
   "language": "julia"
  }
 },
 "nbformat": 4
}
